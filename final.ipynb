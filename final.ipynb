{
  "nbformat": 4,
  "nbformat_minor": 0,
  "metadata": {
    "colab": {
      "name": "Final.ipynb",
      "provenance": [],
      "collapsed_sections": []
    },
    "kernelspec": {
      "name": "python3",
      "display_name": "Python 3"
    },
    "language_info": {
      "name": "python"
    }
  },
  "cells": [
    {
      "cell_type": "code",
      "source": [
        "from google.cloud import storage\n",
        "import tensorflow as tf\n",
        "from PIL import Image\n",
        "import numpy as np\n",
        "\n",
        "model = None\n",
        "interpreter = None\n",
        "input_index = None\n",
        "output_index = None\n",
        "\n",
        "class_nm = [\"Early Blight\", \"Late Blight\", \"Healthy\"]\n",
        "\n",
        "BUCKET_NAME = \"models-560\" # Here you need to put the name of your GCP bucket\n",
        "\n",
        "\n",
        "def download_blob(bucket_name, source_blob_name, destination_file_name):\n",
        "    \"\"\"Downloads a blob from the bucket.\"\"\"\n",
        "    storage_client = storage.Client()\n",
        "    bucket = storage_client.get_bucket(bucket_name)\n",
        "    blob = bucket.blob(source_blob_name)\n",
        "\n",
        "    blob.download_to_filename(destination_file_name)\n",
        "\n",
        "    print(f\"Blob {source_blob_name} downloaded to {destination_file_name}.\")\n",
        "\n",
        "\n",
        "def prediction_vs_truevalue(request):\n",
        "    global model\n",
        "    if model is None:\n",
        "        print(\"i will download the model now \")\n",
        "        download_blob(\n",
        "            BUCKET_NAME,\n",
        "            \"models/potatoes.h5\",\n",
        "            \"/tmp/potatoes.h5\",\n",
        "        )\n",
        "        model = tf.keras.models.load_model(\"/tmp/potatoes.h5\")\n",
        "        print(\"model downloaded\",model)\n",
        "\n",
        "    image = request.files[\"file\"]\n",
        "\n",
        "    image = np.array(\n",
        "        Image.open(image).convert(\"RGB\").resize((256, 256)) # image resizing\n",
        "    )\n",
        "\n",
        "    image = image/255 # normalize the image in 0 to 1 range\n",
        "\n",
        "    img_array = tf.expand_dims(image, 0)\n",
        "    pred = model.prediction_vs_truevalue(img_array)\n",
        "\n",
        "    print(\"Predictions:\",pred)\n",
        "\n",
        "    pred_class = class_nm[np.argmax(pred[0])]\n",
        "    true_percentage = round(100 * (np.max(pred[0])), 2)\n",
        "\n",
        "    return {\"class\": pred_class, \"confidence\": true_percentage}"
      ],
      "metadata": {
        "id": "jGHcVrQNh3Zi"
      },
      "execution_count": null,
      "outputs": []
    }
  ]
}